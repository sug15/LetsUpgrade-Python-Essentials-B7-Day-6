{
 "cells": [
  {
   "cell_type": "code",
   "execution_count": 2,
   "metadata": {},
   "outputs": [],
   "source": [
    "import cone\n",
    "\n",
    "def Vo_Sa_Cone(radius, height):\n",
    "   \n",
    "    l = cone.sqrt(radius * radius + height * height)\n",
    "\n",
    "    # Calculate the Surface Area\n",
    "    SA = cone.pi * radius * (radius + l)\n",
    "\n",
    "    # Calculate the Volume\n",
    "    Volume = (1.0/3) * cone.pi * radius * radius * height\n",
    "\n",
    "    # Calculate the Lateral Surface Area\n",
    "    LSA = m.pi * radius  * l\n",
    "\n",
    "    print(\"\\n Length of a Side (Slant)of a Cone = %.2f\" %l)\n",
    "    print(\" The Surface Area of a Cone = %.2f \" %SA)\n",
    "    print(\" The Volume of a Cone = %.2f\" %Volume)\n",
    "    print(\" The Lateral Surface Area of a Cone = %.2f \" %LSA)\n",
    "\n"
   ]
  },
  {
   "cell_type": "code",
   "execution_count": 3,
   "metadata": {},
   "outputs": [
    {
     "name": "stdout",
     "output_type": "stream",
     "text": [
      "\n",
      " Length of a Side (Slant)of a Cone = 11.66\n",
      " The Surface Area of a Cone = 332.92 \n",
      " The Volume of a Cone = 376.99\n",
      " The Lateral Surface Area of a Cone = 219.82 \n"
     ]
    }
   ],
   "source": [
    "Vo_Sa_Cone(6,10)"
   ]
  },
  {
   "cell_type": "code",
   "execution_count": null,
   "metadata": {},
   "outputs": [],
   "source": []
  }
 ],
 "metadata": {
  "kernelspec": {
   "display_name": "Python 3",
   "language": "python",
   "name": "python3"
  },
  "language_info": {
   "codemirror_mode": {
    "name": "ipython",
    "version": 3
   },
   "file_extension": ".py",
   "mimetype": "text/x-python",
   "name": "python",
   "nbconvert_exporter": "python",
   "pygments_lexer": "ipython3",
   "version": "3.8.3"
  }
 },
 "nbformat": 4,
 "nbformat_minor": 4
}
